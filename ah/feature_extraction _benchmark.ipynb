{
 "cells": [
  {
   "cell_type": "code",
   "execution_count": 1,
   "id": "5c754f4d",
   "metadata": {},
   "outputs": [
    {
     "ename": "ModuleNotFoundError",
     "evalue": "No module named 'sklearn'",
     "output_type": "error",
     "traceback": [
      "\u001b[1;31m---------------------------------------------------------------------------\u001b[0m",
      "\u001b[1;31mModuleNotFoundError\u001b[0m                       Traceback (most recent call last)",
      "Cell \u001b[1;32mIn [1], line 12\u001b[0m\n\u001b[0;32m      9\u001b[0m \u001b[38;5;28;01mfrom\u001b[39;00m \u001b[38;5;21;01mmne\u001b[39;00m\u001b[38;5;21;01m.\u001b[39;00m\u001b[38;5;21;01mtime_frequency\u001b[39;00m \u001b[38;5;28;01mimport\u001b[39;00m tfr_multitaper\n\u001b[0;32m     10\u001b[0m \u001b[38;5;28;01mfrom\u001b[39;00m \u001b[38;5;21;01mmne\u001b[39;00m\u001b[38;5;21;01m.\u001b[39;00m\u001b[38;5;21;01mdecoding\u001b[39;00m \u001b[38;5;28;01mimport\u001b[39;00m UnsupervisedSpatialFilter\n\u001b[1;32m---> 12\u001b[0m \u001b[38;5;28;01mfrom\u001b[39;00m \u001b[38;5;21;01msklearn\u001b[39;00m\u001b[38;5;21;01m.\u001b[39;00m\u001b[38;5;21;01mdecomposition\u001b[39;00m \u001b[38;5;28;01mimport\u001b[39;00m PCA\n\u001b[0;32m     13\u001b[0m \u001b[38;5;28;01mfrom\u001b[39;00m \u001b[38;5;21;01msklearn\u001b[39;00m\u001b[38;5;21;01m.\u001b[39;00m\u001b[38;5;21;01mpipeline\u001b[39;00m \u001b[38;5;28;01mimport\u001b[39;00m make_pipeline\n\u001b[0;32m     14\u001b[0m \u001b[38;5;28;01mfrom\u001b[39;00m \u001b[38;5;21;01msklearn\u001b[39;00m\u001b[38;5;21;01m.\u001b[39;00m\u001b[38;5;21;01mpreprocessing\u001b[39;00m \u001b[38;5;28;01mimport\u001b[39;00m LabelEncoder\n",
      "\u001b[1;31mModuleNotFoundError\u001b[0m: No module named 'sklearn'"
     ]
    }
   ],
   "source": [
    "import numpy as np\n",
    "import pandas as pd\n",
    "import seaborn as sns\n",
    "import matplotlib.pyplot as plt\n",
    "\n",
    "from mne import read_epochs, compute_rank\n",
    "from mne.decoding import CSP\n",
    "from mne.preprocessing import ICA\n",
    "from mne.time_frequency import tfr_multitaper\n",
    "from mne.decoding import UnsupervisedSpatialFilter\n",
    "\n",
    "from sklearn.decomposition import PCA\n",
    "from sklearn.pipeline import make_pipeline\n",
    "from sklearn.preprocessing import LabelEncoder\n",
    "from sklearn.discriminant_analysis import LinearDiscriminantAnalysis\n",
    "from sklearn.model_selection import cross_val_score, ShuffleSplit\n",
    "\n",
    "from jupyterthemes.stylefx import set_nb_theme\n",
    "set_nb_theme('gruvboxd')"
   ]
  },
  {
   "cell_type": "code",
   "execution_count": 2,
   "id": "0ec61521",
   "metadata": {},
   "outputs": [
    {
     "name": "stdout",
     "output_type": "stream",
     "text": [
      "Reading C:\\Users\\Alberto\\Documents\\BCI\\data\\ah\\ica_epo.fif ...\n",
      "    Found the data of interest:\n",
      "        t =   -2000.00 ...    7999.02 ms\n",
      "        0 CTF compensation matrices available\n",
      "Not setting metadata\n",
      "74 matching events found\n",
      "No baseline correction applied\n",
      "0 projection items activated\n"
     ]
    }
   ],
   "source": [
    "epochs = read_epochs('ica_epo.fif')"
   ]
  },
  {
   "cell_type": "markdown",
   "id": "446c5152",
   "metadata": {},
   "source": [
    "Time Frequency Analysis"
   ]
  },
  {
   "cell_type": "code",
   "execution_count": 4,
   "id": "0962d320",
   "metadata": {},
   "outputs": [],
   "source": [
    "channels = ['FC5','FC3','C3','C5','CP3','CP5','P3']\n",
    "conditions = ['left','right','rest']\n",
    "tmin = -0.1\n",
    "tmax = 2."
   ]
  },
  {
   "cell_type": "code",
   "execution_count": 5,
   "id": "023e9e1c",
   "metadata": {},
   "outputs": [],
   "source": [
    "freqs = np.arange(7,120)\n",
    "freq_bounds = {\n",
    "    '_': 0,\n",
    "    'delta': 3,\n",
    "    'theta': 7,\n",
    "    'alpha': 13,\n",
    "    'beta' : 35,\n",
    "    'l-gamma': 70,\n",
    "    'm-gamma': 90,\n",
    "    'h-gamma': 120\n",
    "}\n"
   ]
  },
  {
   "cell_type": "code",
   "execution_count": 5,
   "id": "4c04cadc",
   "metadata": {
    "collapsed": true
   },
   "outputs": [
    {
     "name": "stdout",
     "output_type": "stream",
     "text": [
      "Setting up band-pass filter from 1 - 1.2e+02 Hz\n",
      "\n",
      "FIR filter parameters\n",
      "---------------------\n",
      "Designing a one-pass, zero-phase, non-causal bandpass filter:\n",
      "- Windowed time-domain design (firwin) method\n",
      "- Hamming window with 0.0194 passband ripple and 53 dB stopband attenuation\n",
      "- Lower passband edge: 1.00\n",
      "- Lower transition bandwidth: 1.00 Hz (-6 dB cutoff frequency: 0.50 Hz)\n",
      "- Upper passband edge: 120.00 Hz\n",
      "- Upper transition bandwidth: 30.00 Hz (-6 dB cutoff frequency: 135.00 Hz)\n",
      "- Filter length: 3381 samples (3.302 sec)\n",
      "\n"
     ]
    },
    {
     "name": "stderr",
     "output_type": "stream",
     "text": [
      "[Parallel(n_jobs=8)]: Using backend LokyBackend with 8 concurrent workers.\n",
      "[Parallel(n_jobs=8)]: Done  10 tasks      | elapsed:    2.6s\n",
      "[Parallel(n_jobs=8)]: Done 152 tasks      | elapsed:    2.9s\n",
      "[Parallel(n_jobs=8)]: Done 2172 tasks      | elapsed:    4.7s\n",
      "[Parallel(n_jobs=8)]: Done 2304 out of 2304 | elapsed:    4.8s finished\n",
      "[Parallel(n_jobs=8)]: Using backend LokyBackend with 8 concurrent workers.\n",
      "[Parallel(n_jobs=8)]: Done   2 out of   7 | elapsed:   21.7s remaining:   54.4s\n",
      "[Parallel(n_jobs=8)]: Done   4 out of   7 | elapsed:   22.5s remaining:   16.8s\n",
      "[Parallel(n_jobs=8)]: Done   7 out of   7 | elapsed:   23.6s finished\n"
     ]
    },
    {
     "name": "stdout",
     "output_type": "stream",
     "text": [
      "Not setting metadata\n",
      "Applying baseline correction (mode: percent)\n"
     ]
    },
    {
     "data": {
      "text/plain": [
       "<EpochsTFR | time : [-0.099609, 2.000000], freq : [7.000000, 119.000000], epochs : 36, channels : 7, ~233.8 MB>"
      ]
     },
     "execution_count": 5,
     "metadata": {},
     "output_type": "execute_result"
    }
   ],
   "source": [
    "tfr = tfr_multitaper(epochs[conditions].copy().filter(1,120,n_jobs=8).pick(channels), freqs=freqs, n_cycles=freqs, n_jobs=8, use_fft=True,\n",
    "        return_itc=False, average=False, decim=2)\n",
    "tfr.apply_baseline((-1.4,-0.1), mode='percent')\n",
    "tfr.crop(tmin,tmax)"
   ]
  },
  {
   "cell_type": "code",
   "execution_count": 135,
   "id": "d1cf6c47",
   "metadata": {},
   "outputs": [
    {
     "name": "stdout",
     "output_type": "stream",
     "text": [
      "Converting \"condition\" to \"category\"...\n",
      "Converting \"epoch\" to \"category\"...\n",
      "Converting \"channel\" to \"category\"...\n",
      "Converting \"ch_type\" to \"category\"...\n"
     ]
    }
   ],
   "source": [
    "df = tfr.to_data_frame(time_format=None, long_format=True)\n",
    "df['band'] = pd.cut(df['freq'], list(freq_bounds.values()), labels=list(freq_bounds)[1:])"
   ]
  },
  {
   "cell_type": "code",
   "execution_count": 136,
   "id": "6382e960",
   "metadata": {},
   "outputs": [],
   "source": [
    "df = df[df.band.isin(['beta','l-gamma','m-gamma'])]\n",
    "df['band'] = df['band'].cat.remove_unused_categories()\n",
    "g = sns.FacetGrid(df, row='band', col='channel', margin_titles=True)\n",
    "g.map(sns.lineplot, 'time', 'value', 'condition', n_boot=10)\n",
    "axline_kw = dict(color='black', linestyle='dashed', linewidth=0.5, alpha=0.5)\n",
    "g.map(plt.axhline, y=0, **axline_kw)\n",
    "g.map(plt.axvline, x=0, **axline_kw)\n",
    "# g.set(ylim=(None, 1.5))\n",
    "g.set(xlim=(tmin, tmax))\n",
    "g.set_axis_labels(\"Time (s)\", \"ERDS (%)\")\n",
    "g.set_titles(col_template=\"{col_name}\", row_template=\"{row_name}\")\n",
    "g.add_legend(ncol=2, loc='lower center')\n",
    "g.fig.subplots_adjust(left=0.1, right=0.9, top=0.9, bottom=0.08)"
   ]
  },
  {
   "cell_type": "markdown",
   "id": "a6de9922",
   "metadata": {},
   "source": [
    " "
   ]
  },
  {
   "cell_type": "markdown",
   "id": "081f2c61",
   "metadata": {},
   "source": [
    "Binary CSP + LDA classification"
   ]
  },
  {
   "cell_type": "markdown",
   "id": "c2e69d33",
   "metadata": {},
   "source": [
    " "
   ]
  },
  {
   "cell_type": "code",
   "execution_count": 20,
   "id": "6f0b0cb1",
   "metadata": {},
   "outputs": [
    {
     "name": "stdout",
     "output_type": "stream",
     "text": [
      "Computing rank from data with rank=None\n",
      "    Using tolerance 4.6e-08 (2.2e-16 eps * 55 dim * 3.7e+06  max singular value)\n",
      "    Estimated rank (eeg): 55\n",
      "    EEG: rank 55 computed from 55 data channels with 0 projectors\n"
     ]
    },
    {
     "data": {
      "text/plain": [
       "{'eeg': 55}"
      ]
     },
     "execution_count": 20,
     "metadata": {},
     "output_type": "execute_result"
    }
   ],
   "source": [
    "conditions = ['left','right']\n",
    "subset = epochs[conditions].copy()\n",
    "subset.drop_channels(subset.info['bads'])\n",
    "subset = subset.pick(['eeg'])\n",
    "compute_rank(subset)"
   ]
  },
  {
   "cell_type": "code",
   "execution_count": 21,
   "id": "14bf88b6",
   "metadata": {},
   "outputs": [],
   "source": [
    "min_freq = 7.\n",
    "max_freq = 120.\n",
    "tmin = 0.1\n",
    "tmax = 1.6\n",
    "n_freqs = 10  # how many frequency bins to use\n",
    "components = 5\n",
    "classes = list(subset.event_id.keys())"
   ]
  },
  {
   "cell_type": "code",
   "execution_count": 22,
   "id": "ceb0d81b",
   "metadata": {},
   "outputs": [],
   "source": [
    "csp = CSP(n_components=components, reg=None, log=True, norm_trace=False, rank='info')\n",
    "clf = make_pipeline(csp, LinearDiscriminantAnalysis())\n",
    "cv = ShuffleSplit(n_splits=50, test_size=0.2, random_state=34)\n",
    "le = LabelEncoder()"
   ]
  },
  {
   "cell_type": "code",
   "execution_count": 23,
   "id": "58c118d4",
   "metadata": {},
   "outputs": [],
   "source": [
    "freqs = [2.,7.,18.,30.,40.,60.,70.,90.,100.,110.,120.]\n",
    "freq_ranges = list(zip(freqs[:-1], freqs[1:]))\n",
    "freq_labels = []\n",
    "freq_scores = []"
   ]
  },
  {
   "cell_type": "code",
   "execution_count": 24,
   "id": "79cd9d80",
   "metadata": {},
   "outputs": [
    {
     "name": "stdout",
     "output_type": "stream",
     "text": [
      "Applying baseline correction (mode: mean)\n"
     ]
    }
   ],
   "source": [
    "subset = subset.apply_baseline((-1.3,-0.3))\n",
    "y = le.fit_transform(subset.events[:,2])"
   ]
  },
  {
   "cell_type": "code",
   "execution_count": 25,
   "id": "02564d2c",
   "metadata": {},
   "outputs": [
    {
     "name": "stdout",
     "output_type": "stream",
     "text": [
      "Setting up band-pass filter from 2 - 7 Hz\n",
      "\n",
      "FIR filter parameters\n",
      "---------------------\n",
      "Designing a one-pass, zero-phase, non-causal bandpass filter:\n",
      "- Windowed time-domain design (firwin) method\n",
      "- Hamming window with 0.0194 passband ripple and 53 dB stopband attenuation\n",
      "- Lower passband edge: 2.00\n",
      "- Lower transition bandwidth: 2.00 Hz (-6 dB cutoff frequency: 1.00 Hz)\n",
      "- Upper passband edge: 7.00 Hz\n",
      "- Upper transition bandwidth: 2.00 Hz (-6 dB cutoff frequency: 8.00 Hz)\n",
      "- Filter length: 1691 samples (1.651 sec)\n",
      "\n"
     ]
    },
    {
     "name": "stderr",
     "output_type": "stream",
     "text": [
      "C:\\Users\\Alberto\\AppData\\Local\\Temp\\ipykernel_10268\\965692713.py:2: RuntimeWarning: filter_length (1691) is longer than the signal (1537), distortion is likely. Reduce filter length or filter a longer signal.\n",
      "  test = subset.copy().crop(tmin,tmax).filter(fmin, fmax, n_jobs=4)\n",
      "[Parallel(n_jobs=4)]: Using backend LokyBackend with 4 concurrent workers.\n",
      "[Parallel(n_jobs=4)]: Done  14 tasks      | elapsed:    3.5s\n",
      "[Parallel(n_jobs=4)]: Done 1168 tasks      | elapsed:    3.8s\n",
      "[Parallel(n_jobs=4)]: Done 1650 out of 1650 | elapsed:    3.9s finished\n"
     ]
    },
    {
     "name": "stdout",
     "output_type": "stream",
     "text": [
      "['7']\n",
      "SCORE 0.5189444444444444\n",
      "Setting up band-pass filter from 7 - 18 Hz\n",
      "\n",
      "FIR filter parameters\n",
      "---------------------\n",
      "Designing a one-pass, zero-phase, non-causal bandpass filter:\n",
      "- Windowed time-domain design (firwin) method\n",
      "- Hamming window with 0.0194 passband ripple and 53 dB stopband attenuation\n",
      "- Lower passband edge: 7.00\n",
      "- Lower transition bandwidth: 2.00 Hz (-6 dB cutoff frequency: 6.00 Hz)\n",
      "- Upper passband edge: 18.00 Hz\n",
      "- Upper transition bandwidth: 4.50 Hz (-6 dB cutoff frequency: 20.25 Hz)\n",
      "- Filter length: 1691 samples (1.651 sec)\n",
      "\n"
     ]
    },
    {
     "name": "stderr",
     "output_type": "stream",
     "text": [
      "C:\\Users\\Alberto\\AppData\\Local\\Temp\\ipykernel_10268\\965692713.py:2: RuntimeWarning: filter_length (1691) is longer than the signal (1537), distortion is likely. Reduce filter length or filter a longer signal.\n",
      "  test = subset.copy().crop(tmin,tmax).filter(fmin, fmax, n_jobs=4)\n",
      "[Parallel(n_jobs=4)]: Using backend LokyBackend with 4 concurrent workers.\n",
      "[Parallel(n_jobs=4)]: Done  14 tasks      | elapsed:    1.8s\n",
      "[Parallel(n_jobs=4)]: Done 1392 tasks      | elapsed:    2.2s\n",
      "[Parallel(n_jobs=4)]: Done 1647 out of 1650 | elapsed:    2.3s remaining:    0.0s\n",
      "[Parallel(n_jobs=4)]: Done 1650 out of 1650 | elapsed:    2.3s finished\n"
     ]
    },
    {
     "name": "stdout",
     "output_type": "stream",
     "text": [
      "['7', '18']\n",
      "SCORE 0.54925\n",
      "Setting up band-pass filter from 18 - 30 Hz\n",
      "\n",
      "FIR filter parameters\n",
      "---------------------\n",
      "Designing a one-pass, zero-phase, non-causal bandpass filter:\n",
      "- Windowed time-domain design (firwin) method\n",
      "- Hamming window with 0.0194 passband ripple and 53 dB stopband attenuation\n",
      "- Lower passband edge: 18.00\n",
      "- Lower transition bandwidth: 4.50 Hz (-6 dB cutoff frequency: 15.75 Hz)\n",
      "- Upper passband edge: 30.00 Hz\n",
      "- Upper transition bandwidth: 7.50 Hz (-6 dB cutoff frequency: 33.75 Hz)\n",
      "- Filter length: 751 samples (0.733 sec)\n",
      "\n"
     ]
    },
    {
     "name": "stderr",
     "output_type": "stream",
     "text": [
      "[Parallel(n_jobs=4)]: Using backend LokyBackend with 4 concurrent workers.\n",
      "[Parallel(n_jobs=4)]: Done  14 tasks      | elapsed:    1.7s\n",
      "[Parallel(n_jobs=4)]: Done 1392 tasks      | elapsed:    2.0s\n",
      "[Parallel(n_jobs=4)]: Done 1650 out of 1650 | elapsed:    2.1s finished\n"
     ]
    },
    {
     "name": "stdout",
     "output_type": "stream",
     "text": [
      "['7', '18', '30']\n",
      "SCORE 0.46148148148148144\n",
      "Setting up band-pass filter from 30 - 40 Hz\n",
      "\n",
      "FIR filter parameters\n",
      "---------------------\n",
      "Designing a one-pass, zero-phase, non-causal bandpass filter:\n",
      "- Windowed time-domain design (firwin) method\n",
      "- Hamming window with 0.0194 passband ripple and 53 dB stopband attenuation\n",
      "- Lower passband edge: 30.00\n",
      "- Lower transition bandwidth: 7.50 Hz (-6 dB cutoff frequency: 26.25 Hz)\n",
      "- Upper passband edge: 40.00 Hz\n",
      "- Upper transition bandwidth: 10.00 Hz (-6 dB cutoff frequency: 45.00 Hz)\n",
      "- Filter length: 451 samples (0.440 sec)\n",
      "\n"
     ]
    },
    {
     "name": "stderr",
     "output_type": "stream",
     "text": [
      "[Parallel(n_jobs=4)]: Using backend LokyBackend with 4 concurrent workers.\n",
      "[Parallel(n_jobs=4)]: Done  14 tasks      | elapsed:    1.6s\n",
      "[Parallel(n_jobs=4)]: Done 1336 tasks      | elapsed:    1.9s\n",
      "[Parallel(n_jobs=4)]: Done 1650 out of 1650 | elapsed:    1.9s finished\n"
     ]
    },
    {
     "name": "stdout",
     "output_type": "stream",
     "text": [
      "['7', '18', '30', '40']\n",
      "SCORE 0.46612500000000007\n",
      "Setting up band-pass filter from 40 - 60 Hz\n",
      "\n",
      "FIR filter parameters\n",
      "---------------------\n",
      "Designing a one-pass, zero-phase, non-causal bandpass filter:\n",
      "- Windowed time-domain design (firwin) method\n",
      "- Hamming window with 0.0194 passband ripple and 53 dB stopband attenuation\n",
      "- Lower passband edge: 40.00\n",
      "- Lower transition bandwidth: 10.00 Hz (-6 dB cutoff frequency: 35.00 Hz)\n",
      "- Upper passband edge: 60.00 Hz\n",
      "- Upper transition bandwidth: 15.00 Hz (-6 dB cutoff frequency: 67.50 Hz)\n",
      "- Filter length: 339 samples (0.331 sec)\n",
      "\n"
     ]
    },
    {
     "name": "stderr",
     "output_type": "stream",
     "text": [
      "[Parallel(n_jobs=4)]: Using backend LokyBackend with 4 concurrent workers.\n",
      "[Parallel(n_jobs=4)]: Done  14 tasks      | elapsed:    1.8s\n",
      "[Parallel(n_jobs=4)]: Done 1392 tasks      | elapsed:    2.2s\n",
      "[Parallel(n_jobs=4)]: Done 1650 out of 1650 | elapsed:    2.2s finished\n"
     ]
    },
    {
     "name": "stdout",
     "output_type": "stream",
     "text": [
      "['7', '18', '30', '40', '60']\n",
      "SCORE 0.46294444444444444\n",
      "Setting up band-pass filter from 60 - 70 Hz\n",
      "\n",
      "FIR filter parameters\n",
      "---------------------\n",
      "Designing a one-pass, zero-phase, non-causal bandpass filter:\n",
      "- Windowed time-domain design (firwin) method\n",
      "- Hamming window with 0.0194 passband ripple and 53 dB stopband attenuation\n",
      "- Lower passband edge: 60.00\n",
      "- Lower transition bandwidth: 15.00 Hz (-6 dB cutoff frequency: 52.50 Hz)\n",
      "- Upper passband edge: 70.00 Hz\n",
      "- Upper transition bandwidth: 17.50 Hz (-6 dB cutoff frequency: 78.75 Hz)\n",
      "- Filter length: 227 samples (0.222 sec)\n",
      "\n"
     ]
    },
    {
     "name": "stderr",
     "output_type": "stream",
     "text": [
      "[Parallel(n_jobs=4)]: Using backend LokyBackend with 4 concurrent workers.\n",
      "[Parallel(n_jobs=4)]: Done  14 tasks      | elapsed:    3.8s\n",
      "[Parallel(n_jobs=4)]: Done 1454 tasks      | elapsed:    4.7s\n",
      "[Parallel(n_jobs=4)]: Done 1650 out of 1650 | elapsed:    5.0s finished\n"
     ]
    },
    {
     "name": "stdout",
     "output_type": "stream",
     "text": [
      "['7', '18', '30', '40', '60', '70']\n",
      "SCORE 0.47826851851851854\n",
      "Setting up band-pass filter from 70 - 90 Hz\n",
      "\n",
      "FIR filter parameters\n",
      "---------------------\n",
      "Designing a one-pass, zero-phase, non-causal bandpass filter:\n",
      "- Windowed time-domain design (firwin) method\n",
      "- Hamming window with 0.0194 passband ripple and 53 dB stopband attenuation\n",
      "- Lower passband edge: 70.00\n",
      "- Lower transition bandwidth: 17.50 Hz (-6 dB cutoff frequency: 61.25 Hz)\n",
      "- Upper passband edge: 90.00 Hz\n",
      "- Upper transition bandwidth: 22.50 Hz (-6 dB cutoff frequency: 101.25 Hz)\n",
      "- Filter length: 195 samples (0.190 sec)\n",
      "\n"
     ]
    },
    {
     "name": "stderr",
     "output_type": "stream",
     "text": [
      "[Parallel(n_jobs=4)]: Using backend LokyBackend with 4 concurrent workers.\n",
      "[Parallel(n_jobs=4)]: Done  14 tasks      | elapsed:    4.6s\n",
      "[Parallel(n_jobs=4)]: Done 1224 tasks      | elapsed:    5.2s\n",
      "[Parallel(n_jobs=4)]: Done 1650 out of 1650 | elapsed:    5.4s finished\n"
     ]
    },
    {
     "name": "stdout",
     "output_type": "stream",
     "text": [
      "['7', '18', '30', '40', '60', '70', '90']\n",
      "SCORE 0.4878015873015873\n",
      "Setting up band-pass filter from 90 - 1e+02 Hz\n",
      "\n",
      "FIR filter parameters\n",
      "---------------------\n",
      "Designing a one-pass, zero-phase, non-causal bandpass filter:\n",
      "- Windowed time-domain design (firwin) method\n",
      "- Hamming window with 0.0194 passband ripple and 53 dB stopband attenuation\n",
      "- Lower passband edge: 90.00\n",
      "- Lower transition bandwidth: 22.50 Hz (-6 dB cutoff frequency: 78.75 Hz)\n",
      "- Upper passband edge: 100.00 Hz\n",
      "- Upper transition bandwidth: 25.00 Hz (-6 dB cutoff frequency: 112.50 Hz)\n",
      "- Filter length: 151 samples (0.147 sec)\n",
      "\n"
     ]
    },
    {
     "name": "stderr",
     "output_type": "stream",
     "text": [
      "[Parallel(n_jobs=4)]: Using backend LokyBackend with 4 concurrent workers.\n",
      "[Parallel(n_jobs=4)]: Done  14 tasks      | elapsed:    2.8s\n",
      "[Parallel(n_jobs=4)]: Done 1336 tasks      | elapsed:    3.3s\n",
      "[Parallel(n_jobs=4)]: Done 1650 out of 1650 | elapsed:    3.4s finished\n"
     ]
    },
    {
     "name": "stdout",
     "output_type": "stream",
     "text": [
      "['7', '18', '30', '40', '60', '70', '90', '100']\n",
      "SCORE 0.4829375\n",
      "Setting up band-pass filter from 1e+02 - 1.1e+02 Hz\n",
      "\n",
      "FIR filter parameters\n",
      "---------------------\n",
      "Designing a one-pass, zero-phase, non-causal bandpass filter:\n",
      "- Windowed time-domain design (firwin) method\n",
      "- Hamming window with 0.0194 passband ripple and 53 dB stopband attenuation\n",
      "- Lower passband edge: 100.00\n",
      "- Lower transition bandwidth: 25.00 Hz (-6 dB cutoff frequency: 87.50 Hz)\n",
      "- Upper passband edge: 110.00 Hz\n",
      "- Upper transition bandwidth: 27.50 Hz (-6 dB cutoff frequency: 123.75 Hz)\n",
      "- Filter length: 137 samples (0.134 sec)\n",
      "\n"
     ]
    },
    {
     "name": "stderr",
     "output_type": "stream",
     "text": [
      "[Parallel(n_jobs=4)]: Using backend LokyBackend with 4 concurrent workers.\n",
      "[Parallel(n_jobs=4)]: Done  14 tasks      | elapsed:    3.0s\n",
      "[Parallel(n_jobs=4)]: Done 1336 tasks      | elapsed:    3.5s\n",
      "[Parallel(n_jobs=4)]: Done 1650 out of 1650 | elapsed:    3.6s finished\n"
     ]
    },
    {
     "name": "stdout",
     "output_type": "stream",
     "text": [
      "['7', '18', '30', '40', '60', '70', '90', '100', '110']\n",
      "SCORE 0.47731481481481486\n",
      "Setting up band-pass filter from 1.1e+02 - 1.2e+02 Hz\n",
      "\n",
      "FIR filter parameters\n",
      "---------------------\n",
      "Designing a one-pass, zero-phase, non-causal bandpass filter:\n",
      "- Windowed time-domain design (firwin) method\n",
      "- Hamming window with 0.0194 passband ripple and 53 dB stopband attenuation\n",
      "- Lower passband edge: 110.00\n",
      "- Lower transition bandwidth: 27.50 Hz (-6 dB cutoff frequency: 96.25 Hz)\n",
      "- Upper passband edge: 120.00 Hz\n",
      "- Upper transition bandwidth: 30.00 Hz (-6 dB cutoff frequency: 135.00 Hz)\n",
      "- Filter length: 123 samples (0.120 sec)\n",
      "\n"
     ]
    },
    {
     "name": "stderr",
     "output_type": "stream",
     "text": [
      "[Parallel(n_jobs=4)]: Using backend LokyBackend with 4 concurrent workers.\n",
      "[Parallel(n_jobs=4)]: Done  14 tasks      | elapsed:    3.2s\n",
      "[Parallel(n_jobs=4)]: Done 1280 tasks      | elapsed:    3.6s\n",
      "[Parallel(n_jobs=4)]: Done 1650 out of 1650 | elapsed:    3.7s finished\n"
     ]
    },
    {
     "name": "stdout",
     "output_type": "stream",
     "text": [
      "['7', '18', '30', '40', '60', '70', '90', '100', '110', '120']\n",
      "SCORE 0.4735444444444445\n"
     ]
    }
   ],
   "source": [
    "for freq, (fmin, fmax) in enumerate(freq_ranges):\n",
    "    test = subset.copy().crop(tmin,tmax).filter(fmin, fmax, n_jobs=4) \n",
    "    test.drop_channels(test.info['bads'])\n",
    "    \n",
    "    if tmin > 3 and (conditions[1] == 'rest'):\n",
    "        rest = subset['rest'].copy().crop(0, tmax-tmin).filter(fmin, fmax, n_jobs=4)\n",
    "        rest.drop_channels(rest.info['bads'])\n",
    "        X = np.concatenate([test[condtion[0]].get_data(), rest.get_data()])\n",
    "    else:\n",
    "        X = test.get_data()\n",
    "    \n",
    "    chance = np.mean(y == y[0])\n",
    "    chance = max(chance, 1. - chance)\n",
    "        \n",
    "    freq_labels.append(str(int(fmax)))\n",
    "    freq_scores.append(\n",
    "        cross_val_score(\n",
    "            estimator=clf, X=X, y=y, scoring='roc_auc', cv=cv, n_jobs=8))\n",
    "    \n",
    "    print(freq_labels)\n",
    "    print('SCORE '+str(np.mean(freq_scores)))"
   ]
  },
  {
   "cell_type": "code",
   "execution_count": 29,
   "id": "a1adb703",
   "metadata": {},
   "outputs": [],
   "source": [
    "scores_df = pd.DataFrame(data=np.transpose(freq_scores), columns=[freq_labels])"
   ]
  },
  {
   "cell_type": "code",
   "execution_count": 30,
   "id": "a500c292",
   "metadata": {},
   "outputs": [
    {
     "data": {
      "image/png": "[encoded data removed]",
      "text/plain": [
       "<Figure size 640x480 with 1 Axes>"
      ]
     },
     "metadata": {},
     "output_type": "display_data"
    }
   ],
   "source": [
    "csp_fig, axes = plt.subplots(1)\n",
    "scores_df.boxplot(ax=axes)\n",
    "axes.axhline(chance)\n",
    "axes.set_xlabel('Frequency (Hz)')\n",
    "axes.set_ylabel('Decoding Scores')\n",
    "csp_fig.suptitle(classes[0]+' vs '+classes[1])\n",
    "plt.show()"
   ]
  },
  {
   "cell_type": "code",
   "execution_count": 31,
   "id": "824af6cc",
   "metadata": {},
   "outputs": [],
   "source": [
    "score_median = []\n",
    "scores_df = scores_df.dropna()\n",
    "for col in scores_df.columns:\n",
    "    score_median.append(np.median(scores_df[col]))"
   ]
  },
  {
   "cell_type": "code",
   "execution_count": 34,
   "id": "7fec779d",
   "metadata": {},
   "outputs": [
    {
     "data": {
      "text/plain": [
       "[0.5555555555555556,\n",
       " 0.5555555555555556,\n",
       " 0.25,\n",
       " 0.4444444444444445,\n",
       " 0.4444444444444445,\n",
       " 0.5555555555555556,\n",
       " 0.5277777777777778,\n",
       " 0.4444444444444445,\n",
       " 0.4222222222222222,\n",
       " 0.3875]"
      ]
     },
     "execution_count": 34,
     "metadata": {},
     "output_type": "execute_result"
    }
   ],
   "source": [
    "score_median"
   ]
  },
  {
   "cell_type": "code",
   "execution_count": 33,
   "id": "50857988",
   "metadata": {},
   "outputs": [],
   "source": [
    "del subset"
   ]
  },
  {
   "cell_type": "code",
   "execution_count": null,
   "id": "e62fb889",
   "metadata": {},
   "outputs": [],
   "source": []
  }
 ],
 "metadata": {
  "kernelspec": {
   "display_name": "Python 3 (ipykernel)",
   "language": "python",
   "name": "python3"
  },
  "language_info": {
   "codemirror_mode": {
    "name": "ipython",
    "version": 3
   },
   "file_extension": ".py",
   "mimetype": "text/x-python",
   "name": "python",
   "nbconvert_exporter": "python",
   "pygments_lexer": "ipython3",
   "version": "3.10.9"
  }
 },
 "nbformat": 4,
 "nbformat_minor": 5
}
