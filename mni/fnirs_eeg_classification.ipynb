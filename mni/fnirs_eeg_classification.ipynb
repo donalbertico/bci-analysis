{
 "cells": [
  {
   "cell_type": "code",
   "execution_count": null,
   "id": "2b18260c",
   "metadata": {},
   "outputs": [],
   "source": [
    "import numpy as np\n",
    "import pandas as pd\n",
    "import seaborn as sns\n",
    "import pywt\n",
    "import matplotlib.pyplot as plt\n",
    "\n",
    "from mne import read_epochs, set_log_level, compute_rank, concatenate_epochs\n",
    "from mrmr import mrmr_classif\n",
    "from random import randint\n",
    "from mne.decoding import Scaler\n",
    "from scipy.stats import kurtosis, skew, moment, entropy, norm\n",
    "from sklearn.preprocessing import LabelEncoder\n",
    "from sklearn.model_selection import train_test_split, StratifiedShuffleSplit, StratifiedKFold, cross_val_score, GridSearchCV,ShuffleSplit\n",
    "from sklearn.discriminant_analysis import LinearDiscriminantAnalysis\n",
    "\n",
    "from jupyterthemes.stylefx import set_nb_theme\n",
    "set_nb_theme('gruvboxd')"
   ]
  },
  {
   "cell_type": "code",
   "execution_count": null,
   "id": "7637c640",
   "metadata": {},
   "outputs": [],
   "source": [
    "set_log_level('warning')\n",
    "epochs = read_epochs('ica_epo.fif').pick('eeg').filter(0,240)\n",
    "epochs.drop_channels(epochs.info['bads'])\n",
    "epochs.apply_baseline((-1.4,-0.4))"
   ]
  },
  {
   "cell_type": "code",
   "execution_count": null,
   "id": "941eabf3",
   "metadata": {},
   "outputs": [],
   "source": [
    "hbo = read_epochs('hbo_epo.fif')\n",
    "hbr = read_epochs('hbr_epo.fif')\n",
    "hbo"
   ]
  },
  {
   "cell_type": "code",
   "execution_count": null,
   "id": "a6749f52",
   "metadata": {},
   "outputs": [],
   "source": [
    "scaler = Scaler(info=epochs.info)\n",
    "lda = LinearDiscriminantAnalysis(solver='lsqr', shrinkage='auto')\n",
    "le = LabelEncoder()"
   ]
  },
  {
   "cell_type": "code",
   "execution_count": null,
   "id": "014d0868",
   "metadata": {},
   "outputs": [],
   "source": [
    "def dwt_det_coeff(x, db='db2'):\n",
    "    aprx, det = pywt.dwt(x,db)\n",
    "    return det\n",
    "\n",
    "def dwt_aprox_coeff(x, db='db2'):\n",
    "    aprx, det = pywt.dwt(x,db)\n",
    "    return aprx\n",
    "\n",
    "def rms(x):\n",
    "    return np.sqrt(np.mean(x**2))\n",
    "\n",
    "def slope(x):\n",
    "    t = np.linspace(0, len(x)-1, len(x))\n",
    "    return np.polyfit(t, x, 1)[0]\n",
    "\n",
    "def autocorr(x):\n",
    "    return float(np.correlate(x,x))\n",
    "    \n",
    "def temp_centroid(x):\n",
    "    nom = [x[i] * i for i in range(x.shape[0])]\n",
    "    return sum(nom)/sum(x)\n",
    "\n",
    "def energy(x):\n",
    "    return sum(x**2)\n",
    "\n",
    "def med_abs_diff(x):\n",
    "    return np.median(np.abs(np.diff(x)))\n",
    "\n",
    "def mean_abs_diff(x):\n",
    "    return np.mean(np.abs(np.diff(x)))\n",
    "\n",
    "def calc_centroid(x, fs=7.81):\n",
    "    energy = np.array(x) ** 2\n",
    "    t = range(len(x))\n",
    "    t = [float(x) / fs for x in t]\n",
    "    t_energy = np.dot(np.array(t), np.array(energy))\n",
    "    energy_sum = np.sum(energy)\n",
    "\n",
    "    if energy_sum == 0 or t_energy == 0:\n",
    "        centroid = 0\n",
    "    else:\n",
    "        centroid = t_energy / energy_sum\n",
    "\n",
    "    return centroid"
   ]
  },
  {
   "cell_type": "markdown",
   "id": "13a42500",
   "metadata": {},
   "source": [
    "left rest"
   ]
  },
  {
   "cell_type": "code",
   "execution_count": 15,
   "id": "48c0cdea",
   "metadata": {},
   "outputs": [],
   "source": [
    "conditions = ['left','rest']\n",
    "hbo_sub = hbo[conditions].copy()\n",
    "hbr_sub = hbr[conditions].copy()\n",
    "\n",
    "subset = epochs[conditions].copy()\n",
    "subset.drop_channels(subset.info['bads'])\n",
    "subset = subset.pick(['eeg'])\n",
    "eeg_data = subset.copy().crop(0.4,1.2).get_data()\n",
    "\n",
    "hbo_sub.drop_channels(hbo_sub.info['bads'])\n",
    "hbr_sub.drop_channels(hbr_sub.info['bads'])\n",
    "y = le.fit_transform(hbr_sub.events[:,2])\n",
    "chance = np.mean(y == y[0])\n",
    "chance = max(chance, 1. - chance)\n",
    "\n",
    "t_min = 1\n",
    "t_max = 10\n",
    "\n",
    "hbo_sub = hbo_sub.copy().crop(t_min,t_max).get_data()\n",
    "hbr_sub = hbr_sub.copy().crop(t_min,t_max).get_data()\n",
    "hbo_avg = np.mean(hbo_sub, axis=0, keepdims=True)\n",
    "hbr_avg = np.mean(hbr_sub, axis=0, keepdims=True)\n",
    "\n",
    "hbo_sub = hbo_sub - hbo_avg\n",
    "hbr_sub = hbr_sub - hbr_avg\n",
    "\n",
    "nirs_data = np.concatenate([hbo_sub,  hbr_sub], axis=1)\n",
    "\n",
    "y = le.fit_transform(subset.events[:,2])\n"
   ]
  },
  {
   "cell_type": "code",
   "execution_count": 13,
   "id": "b2c67f60",
   "metadata": {},
   "outputs": [
    {
     "name": "stderr",
     "output_type": "stream",
     "text": [
      "100%|██████████████████████████████████████████████████████████████████████████████████| 12/12 [00:04<00:00,  2.52it/s]\n"
     ]
    },
    {
     "name": "stdout",
     "output_type": "stream",
     "text": [
      "0.8308823529411764\n"
     ]
    }
   ],
   "source": [
    "test_fnirs_eeg('bior2.2', 6, 5, 12)"
   ]
  },
  {
   "cell_type": "code",
   "execution_count": 16,
   "id": "fe511f30",
   "metadata": {},
   "outputs": [
    {
     "name": "stderr",
     "output_type": "stream",
     "text": [
      "100%|██████████████████████████████████████████████████████████████████████████████████| 11/11 [00:06<00:00,  1.81it/s]\n",
      "100%|██████████████████████████████████████████████████████████████████████████████████| 11/11 [00:07<00:00,  1.41it/s]\n",
      "100%|██████████████████████████████████████████████████████████████████████████████████| 11/11 [00:05<00:00,  1.90it/s]\n",
      "100%|██████████████████████████████████████████████████████████████████████████████████| 11/11 [00:07<00:00,  1.48it/s]\n",
      "100%|██████████████████████████████████████████████████████████████████████████████████| 11/11 [00:06<00:00,  1.78it/s]\n",
      "100%|██████████████████████████████████████████████████████████████████████████████████| 11/11 [00:06<00:00,  1.58it/s]\n",
      "100%|██████████████████████████████████████████████████████████████████████████████████| 11/11 [00:07<00:00,  1.52it/s]\n",
      "100%|██████████████████████████████████████████████████████████████████████████████████| 11/11 [00:05<00:00,  2.07it/s]\n",
      "100%|██████████████████████████████████████████████████████████████████████████████████| 11/11 [00:05<00:00,  2.02it/s]\n",
      "100%|██████████████████████████████████████████████████████████████████████████████████| 11/11 [00:06<00:00,  1.64it/s]\n"
     ]
    },
    {
     "name": "stdout",
     "output_type": "stream",
     "text": [
      "0.9257352941176471\n"
     ]
    },
    {
     "data": {
      "text/plain": [
       "0.9257352941176471"
      ]
     },
     "execution_count": 16,
     "metadata": {},
     "output_type": "execute_result"
    }
   ],
   "source": [
    "test_fnirs_eeg('bior2.2', 3, 5, 11)"
   ]
  },
  {
   "cell_type": "code",
   "execution_count": 12,
   "id": "f0b41962",
   "metadata": {},
   "outputs": [
    {
     "name": "stderr",
     "output_type": "stream",
     "text": [
      "100%|██████████████████████████████████████████████████████████████████████████████████| 14/14 [00:20<00:00,  1.45s/it]\n",
      "100%|██████████████████████████████████████████████████████████████████████████████████| 14/14 [00:06<00:00,  2.06it/s]\n",
      "100%|██████████████████████████████████████████████████████████████████████████████████| 14/14 [00:08<00:00,  1.66it/s]\n",
      "100%|██████████████████████████████████████████████████████████████████████████████████| 14/14 [00:08<00:00,  1.62it/s]\n",
      "100%|██████████████████████████████████████████████████████████████████████████████████| 14/14 [00:09<00:00,  1.53it/s]\n",
      "100%|██████████████████████████████████████████████████████████████████████████████████| 14/14 [00:09<00:00,  1.47it/s]\n",
      "100%|██████████████████████████████████████████████████████████████████████████████████| 14/14 [00:07<00:00,  1.95it/s]\n",
      "100%|██████████████████████████████████████████████████████████████████████████████████| 14/14 [00:05<00:00,  2.45it/s]\n",
      "100%|██████████████████████████████████████████████████████████████████████████████████| 14/14 [00:06<00:00,  2.12it/s]\n",
      "100%|██████████████████████████████████████████████████████████████████████████████████| 14/14 [00:06<00:00,  2.02it/s]\n"
     ]
    },
    {
     "name": "stdout",
     "output_type": "stream",
     "text": [
      "0.7823529411764706\n"
     ]
    },
    {
     "data": {
      "text/plain": [
       "0.7823529411764706"
      ]
     },
     "execution_count": 12,
     "metadata": {},
     "output_type": "execute_result"
    }
   ],
   "source": [
    "test_fnirs_eeg('bior2.2', 3, 5, 14)"
   ]
  },
  {
   "cell_type": "markdown",
   "id": "d6a4c594",
   "metadata": {},
   "source": [
    "left vs right"
   ]
  },
  {
   "cell_type": "code",
   "execution_count": null,
   "id": "2eca631d",
   "metadata": {},
   "outputs": [],
   "source": [
    "conditions = ['left','right']\n",
    "hbo_sub = hbo[conditions].copy()\n",
    "hbr_sub = hbr[conditions].copy()\n",
    "\n",
    "subset = epochs[conditions].copy()\n",
    "subset.drop_channels(subset.info['bads'])\n",
    "subset = subset.pick(['eeg'])\n",
    "eeg_data = subset.copy().crop(0.2,1).get_data()\n",
    "\n",
    "hbo_sub.drop_channels(hbo_sub.info['bads'])\n",
    "hbr_sub.drop_channels(hbr_sub.info['bads'])\n",
    "y = le.fit_transform(hbr_sub.events[:,2])\n",
    "chance = np.mean(y == y[0])\n",
    "chance = max(chance, 1. - chance)\n",
    "\n",
    "t_min = 1\n",
    "t_max = 9\n",
    "\n",
    "hbo_sub = hbo_sub.copy().crop(t_min,t_max).get_data()\n",
    "hbr_sub = hbr_sub.copy().crop(t_min,t_max).get_data()\n",
    "hbo_avg = np.mean(hbo_sub, axis=0, keepdims=True)\n",
    "hbr_avg = np.mean(hbr_sub, axis=0, keepdims=True)\n",
    "\n",
    "hbo_sub = hbo_sub - hbo_avg\n",
    "hbr_sub = hbr_sub - hbr_avg\n",
    "\n",
    "nirs_data = np.concatenate([hbo_sub,  hbr_sub], axis=1)\n",
    "\n",
    "y = le.fit_transform(subset.events[:,2])\n"
   ]
  },
  {
   "cell_type": "code",
   "execution_count": 9,
   "id": "ebc9a39f",
   "metadata": {
    "scrolled": true
   },
   "outputs": [
    {
     "name": "stderr",
     "output_type": "stream",
     "text": [
      "100%|██████████████████████████████████████████████████████████████████████████████████| 10/10 [00:03<00:00,  2.77it/s]\n",
      "100%|██████████████████████████████████████████████████████████████████████████████████| 10/10 [00:03<00:00,  2.91it/s]\n",
      "100%|██████████████████████████████████████████████████████████████████████████████████| 10/10 [00:03<00:00,  2.66it/s]\n"
     ]
    },
    {
     "name": "stdout",
     "output_type": "stream",
     "text": [
      "a: 0.8823529411764706 std 0.08318903308077032\n",
      "0.8823529411764706 at  10 ft\n"
     ]
    },
    {
     "name": "stderr",
     "output_type": "stream",
     "text": [
      "100%|██████████████████████████████████████████████████████████████████████████████████| 11/11 [00:03<00:00,  3.16it/s]\n",
      "100%|██████████████████████████████████████████████████████████████████████████████████| 11/11 [00:03<00:00,  2.98it/s]\n",
      "100%|██████████████████████████████████████████████████████████████████████████████████| 11/11 [00:03<00:00,  3.00it/s]\n"
     ]
    },
    {
     "name": "stdout",
     "output_type": "stream",
     "text": [
      "a: 0.823529411764706 std 0.08318903308077026\n"
     ]
    },
    {
     "name": "stderr",
     "output_type": "stream",
     "text": [
      "100%|██████████████████████████████████████████████████████████████████████████████████| 12/12 [00:03<00:00,  3.36it/s]\n",
      "100%|██████████████████████████████████████████████████████████████████████████████████| 12/12 [00:03<00:00,  3.65it/s]\n",
      "100%|██████████████████████████████████████████████████████████████████████████████████| 12/12 [00:03<00:00,  3.59it/s]\n"
     ]
    },
    {
     "name": "stdout",
     "output_type": "stream",
     "text": [
      "a: 0.8627450980392156 std 0.11091871077436037\n"
     ]
    },
    {
     "name": "stderr",
     "output_type": "stream",
     "text": [
      "100%|██████████████████████████████████████████████████████████████████████████████████| 13/13 [00:04<00:00,  2.73it/s]\n",
      "100%|██████████████████████████████████████████████████████████████████████████████████| 13/13 [00:04<00:00,  3.06it/s]\n",
      "100%|██████████████████████████████████████████████████████████████████████████████████| 13/13 [00:04<00:00,  3.06it/s]\n"
     ]
    },
    {
     "name": "stdout",
     "output_type": "stream",
     "text": [
      "a: 0.9411764705882352 std 0.04802921064280742\n",
      "0.9411764705882352 at  13 ft\n"
     ]
    },
    {
     "name": "stderr",
     "output_type": "stream",
     "text": [
      "100%|██████████████████████████████████████████████████████████████████████████████████| 14/14 [00:04<00:00,  2.99it/s]\n",
      "100%|██████████████████████████████████████████████████████████████████████████████████| 14/14 [00:04<00:00,  2.96it/s]\n",
      "100%|██████████████████████████████████████████████████████████████████████████████████| 14/14 [00:05<00:00,  2.73it/s]\n"
     ]
    },
    {
     "name": "stdout",
     "output_type": "stream",
     "text": [
      "a: 0.9215686274509803 std 0.07336583111321456\n"
     ]
    },
    {
     "name": "stderr",
     "output_type": "stream",
     "text": [
      "100%|██████████████████████████████████████████████████████████████████████████████████| 15/15 [00:05<00:00,  2.57it/s]\n",
      "100%|██████████████████████████████████████████████████████████████████████████████████| 15/15 [00:06<00:00,  2.39it/s]\n",
      "100%|██████████████████████████████████████████████████████████████████████████████████| 15/15 [00:05<00:00,  2.57it/s]\n"
     ]
    },
    {
     "name": "stdout",
     "output_type": "stream",
     "text": [
      "a: 0.8627450980392156 std 0.027729677693590107\n"
     ]
    },
    {
     "name": "stderr",
     "output_type": "stream",
     "text": [
      "100%|██████████████████████████████████████████████████████████████████████████████████| 16/16 [00:05<00:00,  2.70it/s]\n",
      "100%|██████████████████████████████████████████████████████████████████████████████████| 16/16 [00:06<00:00,  2.44it/s]\n",
      "100%|██████████████████████████████████████████████████████████████████████████████████| 16/16 [00:06<00:00,  2.59it/s]\n"
     ]
    },
    {
     "name": "stdout",
     "output_type": "stream",
     "text": [
      "a: 0.8431372549019608 std 0.13864838846795047\n"
     ]
    },
    {
     "name": "stderr",
     "output_type": "stream",
     "text": [
      "100%|██████████████████████████████████████████████████████████████████████████████████| 17/17 [00:06<00:00,  2.48it/s]\n"
     ]
    },
    {
     "ename": "KeyboardInterrupt",
     "evalue": "",
     "output_type": "error",
     "traceback": [
      "\u001b[1;31m---------------------------------------------------------------------------\u001b[0m",
      "\u001b[1;31mKeyboardInterrupt\u001b[0m                         Traceback (most recent call last)",
      "Cell \u001b[1;32mIn[9], line 1\u001b[0m\n\u001b[1;32m----> 1\u001b[0m \u001b[43mtest_n_features\u001b[49m\u001b[43m(\u001b[49m\u001b[38;5;124;43m'\u001b[39;49m\u001b[38;5;124;43mdb30\u001b[39;49m\u001b[38;5;124;43m'\u001b[39;49m\u001b[43m,\u001b[49m\u001b[43m \u001b[49m\u001b[38;5;241;43m4\u001b[39;49m\u001b[43m,\u001b[49m\u001b[43m \u001b[49m\u001b[38;5;241;43m5\u001b[39;49m\u001b[43m)\u001b[49m\n",
      "Cell \u001b[1;32mIn[7], line 4\u001b[0m, in \u001b[0;36mtest_n_features\u001b[1;34m(db, lvl, lvl1)\u001b[0m\n\u001b[0;32m      2\u001b[0m best_score \u001b[38;5;241m=\u001b[39m \u001b[38;5;241m0\u001b[39m\n\u001b[0;32m      3\u001b[0m \u001b[38;5;28;01mfor\u001b[39;00m n_features \u001b[38;5;129;01min\u001b[39;00m np\u001b[38;5;241m.\u001b[39marange(\u001b[38;5;241m10\u001b[39m,\u001b[38;5;241m26\u001b[39m):\n\u001b[1;32m----> 4\u001b[0m     fts, current \u001b[38;5;241m=\u001b[39m \u001b[43mtest_fnirs_eeg\u001b[49m\u001b[43m(\u001b[49m\u001b[43mdb\u001b[49m\u001b[43m,\u001b[49m\u001b[43mlvl\u001b[49m\u001b[43m,\u001b[49m\u001b[43m \u001b[49m\u001b[43mlvl1\u001b[49m\u001b[43m,\u001b[49m\u001b[43m \u001b[49m\u001b[43mn_features\u001b[49m\u001b[43m,\u001b[49m\u001b[43m \u001b[49m\u001b[43mfolds\u001b[49m\u001b[43m \u001b[49m\u001b[38;5;241;43m=\u001b[39;49m\u001b[43m \u001b[49m\u001b[38;5;241;43m3\u001b[39;49m\u001b[43m)\u001b[49m\n\u001b[0;32m      5\u001b[0m     \u001b[38;5;28;01mif\u001b[39;00m current \u001b[38;5;241m>\u001b[39m best_score:\n\u001b[0;32m      6\u001b[0m         best_score \u001b[38;5;241m=\u001b[39m current\n",
      "Cell \u001b[1;32mIn[7], line 89\u001b[0m, in \u001b[0;36mtest_fnirs_eeg\u001b[1;34m(db, lvl, lvl1, features, folds)\u001b[0m\n\u001b[0;32m     87\u001b[0m x_train\u001b[38;5;241m.\u001b[39mappend(np\u001b[38;5;241m.\u001b[39mapply_along_axis(rms, \u001b[38;5;241m2\u001b[39m, detail_coeffs[lvl1]))\n\u001b[0;32m     88\u001b[0m x_train\u001b[38;5;241m.\u001b[39mappend(np\u001b[38;5;241m.\u001b[39mapply_along_axis(slope, \u001b[38;5;241m2\u001b[39m, detail_coeffs[lvl1]))\n\u001b[1;32m---> 89\u001b[0m x_train\u001b[38;5;241m.\u001b[39mappend(\u001b[43mnp\u001b[49m\u001b[38;5;241;43m.\u001b[39;49m\u001b[43mapply_along_axis\u001b[49m\u001b[43m(\u001b[49m\u001b[43mskew\u001b[49m\u001b[43m,\u001b[49m\u001b[43m \u001b[49m\u001b[38;5;241;43m2\u001b[39;49m\u001b[43m,\u001b[49m\u001b[43m \u001b[49m\u001b[43mdetail_coeffs\u001b[49m\u001b[43m[\u001b[49m\u001b[43mlvl1\u001b[49m\u001b[43m]\u001b[49m\u001b[43m)\u001b[49m)\n\u001b[0;32m     90\u001b[0m x_train\u001b[38;5;241m.\u001b[39mappend(np\u001b[38;5;241m.\u001b[39mapply_along_axis(np\u001b[38;5;241m.\u001b[39maverage, \u001b[38;5;241m2\u001b[39m, detail_coeffs[lvl1]\u001b[38;5;241m*\u001b[39m\u001b[38;5;241m*\u001b[39m\u001b[38;5;241m2\u001b[39m))\n\u001b[0;32m     91\u001b[0m x_train\u001b[38;5;241m.\u001b[39mappend(np\u001b[38;5;241m.\u001b[39mapply_along_axis(mean_abs_diff, \u001b[38;5;241m2\u001b[39m, detail_coeffs[lvl1]))\n",
      "File \u001b[1;32m<__array_function__ internals>:180\u001b[0m, in \u001b[0;36mapply_along_axis\u001b[1;34m(*args, **kwargs)\u001b[0m\n",
      "File \u001b[1;32m~\\AppData\\Local\\Packages\\PythonSoftwareFoundation.Python.3.10_qbz5n2kfra8p0\\LocalCache\\local-packages\\Python310\\site-packages\\numpy\\lib\\shape_base.py:402\u001b[0m, in \u001b[0;36mapply_along_axis\u001b[1;34m(func1d, axis, arr, *args, **kwargs)\u001b[0m\n\u001b[0;32m    400\u001b[0m buff[ind0] \u001b[38;5;241m=\u001b[39m res\n\u001b[0;32m    401\u001b[0m \u001b[38;5;28;01mfor\u001b[39;00m ind \u001b[38;5;129;01min\u001b[39;00m inds:\n\u001b[1;32m--> 402\u001b[0m     buff[ind] \u001b[38;5;241m=\u001b[39m asanyarray(func1d(inarr_view[ind], \u001b[38;5;241m*\u001b[39margs, \u001b[38;5;241m*\u001b[39m\u001b[38;5;241m*\u001b[39mkwargs))\n\u001b[0;32m    404\u001b[0m \u001b[38;5;28;01mif\u001b[39;00m \u001b[38;5;129;01mnot\u001b[39;00m \u001b[38;5;28misinstance\u001b[39m(res, matrix):\n\u001b[0;32m    405\u001b[0m     \u001b[38;5;66;03m# wrap the array, to preserve subclasses\u001b[39;00m\n\u001b[0;32m    406\u001b[0m     buff \u001b[38;5;241m=\u001b[39m res\u001b[38;5;241m.\u001b[39m__array_wrap__(buff)\n",
      "File \u001b[1;32m~\\AppData\\Local\\Packages\\PythonSoftwareFoundation.Python.3.10_qbz5n2kfra8p0\\LocalCache\\local-packages\\Python310\\site-packages\\scipy\\stats\\_axis_nan_policy.py:455\u001b[0m, in \u001b[0;36m_axis_nan_policy_factory.<locals>.axis_nan_policy_decorator.<locals>.axis_nan_policy_wrapper\u001b[1;34m(***failed resolving arguments***)\u001b[0m\n\u001b[0;32m    453\u001b[0m     samples \u001b[38;5;241m=\u001b[39m [sample\u001b[38;5;241m.\u001b[39mravel() \u001b[38;5;28;01mfor\u001b[39;00m sample \u001b[38;5;129;01min\u001b[39;00m samples]\n\u001b[0;32m    454\u001b[0m \u001b[38;5;28;01melse\u001b[39;00m:\n\u001b[1;32m--> 455\u001b[0m     samples \u001b[38;5;241m=\u001b[39m \u001b[43m_broadcast_arrays\u001b[49m\u001b[43m(\u001b[49m\u001b[43msamples\u001b[49m\u001b[43m,\u001b[49m\u001b[43m \u001b[49m\u001b[43maxis\u001b[49m\u001b[38;5;241;43m=\u001b[39;49m\u001b[43maxis\u001b[49m\u001b[43m)\u001b[49m\n\u001b[0;32m    456\u001b[0m     axis \u001b[38;5;241m=\u001b[39m np\u001b[38;5;241m.\u001b[39matleast_1d(axis)\n\u001b[0;32m    457\u001b[0m     n_axes \u001b[38;5;241m=\u001b[39m \u001b[38;5;28mlen\u001b[39m(axis)\n",
      "File \u001b[1;32m~\\AppData\\Local\\Packages\\PythonSoftwareFoundation.Python.3.10_qbz5n2kfra8p0\\LocalCache\\local-packages\\Python310\\site-packages\\scipy\\stats\\_axis_nan_policy.py:19\u001b[0m, in \u001b[0;36m_broadcast_arrays\u001b[1;34m(arrays, axis)\u001b[0m\n\u001b[0;32m     15\u001b[0m \u001b[38;5;28;01mdef\u001b[39;00m \u001b[38;5;21m_broadcast_arrays\u001b[39m(arrays, axis\u001b[38;5;241m=\u001b[39m\u001b[38;5;28;01mNone\u001b[39;00m):\n\u001b[0;32m     16\u001b[0m \u001b[38;5;250m    \u001b[39m\u001b[38;5;124;03m\"\"\"\u001b[39;00m\n\u001b[0;32m     17\u001b[0m \u001b[38;5;124;03m    Broadcast shapes of arrays, ignoring incompatibility of specified axes\u001b[39;00m\n\u001b[0;32m     18\u001b[0m \u001b[38;5;124;03m    \"\"\"\u001b[39;00m\n\u001b[1;32m---> 19\u001b[0m     new_shapes \u001b[38;5;241m=\u001b[39m \u001b[43m_broadcast_array_shapes\u001b[49m\u001b[43m(\u001b[49m\u001b[43marrays\u001b[49m\u001b[43m,\u001b[49m\u001b[43m \u001b[49m\u001b[43maxis\u001b[49m\u001b[38;5;241;43m=\u001b[39;49m\u001b[43maxis\u001b[49m\u001b[43m)\u001b[49m\n\u001b[0;32m     20\u001b[0m     \u001b[38;5;28;01mif\u001b[39;00m axis \u001b[38;5;129;01mis\u001b[39;00m \u001b[38;5;28;01mNone\u001b[39;00m:\n\u001b[0;32m     21\u001b[0m         new_shapes \u001b[38;5;241m=\u001b[39m [new_shapes]\u001b[38;5;241m*\u001b[39m\u001b[38;5;28mlen\u001b[39m(arrays)\n",
      "File \u001b[1;32m~\\AppData\\Local\\Packages\\PythonSoftwareFoundation.Python.3.10_qbz5n2kfra8p0\\LocalCache\\local-packages\\Python310\\site-packages\\scipy\\stats\\_axis_nan_policy.py:31\u001b[0m, in \u001b[0;36m_broadcast_array_shapes\u001b[1;34m(arrays, axis)\u001b[0m\n\u001b[0;32m     27\u001b[0m \u001b[38;5;250m\u001b[39m\u001b[38;5;124;03m\"\"\"\u001b[39;00m\n\u001b[0;32m     28\u001b[0m \u001b[38;5;124;03mBroadcast shapes of arrays, ignoring incompatibility of specified axes\u001b[39;00m\n\u001b[0;32m     29\u001b[0m \u001b[38;5;124;03m\"\"\"\u001b[39;00m\n\u001b[0;32m     30\u001b[0m shapes \u001b[38;5;241m=\u001b[39m [np\u001b[38;5;241m.\u001b[39masarray(arr)\u001b[38;5;241m.\u001b[39mshape \u001b[38;5;28;01mfor\u001b[39;00m arr \u001b[38;5;129;01min\u001b[39;00m arrays]\n\u001b[1;32m---> 31\u001b[0m \u001b[38;5;28;01mreturn\u001b[39;00m \u001b[43m_broadcast_shapes\u001b[49m\u001b[43m(\u001b[49m\u001b[43mshapes\u001b[49m\u001b[43m,\u001b[49m\u001b[43m \u001b[49m\u001b[43maxis\u001b[49m\u001b[43m)\u001b[49m\n",
      "File \u001b[1;32m~\\AppData\\Local\\Packages\\PythonSoftwareFoundation.Python.3.10_qbz5n2kfra8p0\\LocalCache\\local-packages\\Python310\\site-packages\\scipy\\stats\\_axis_nan_policy.py:65\u001b[0m, in \u001b[0;36m_broadcast_shapes\u001b[1;34m(shapes, axis)\u001b[0m\n\u001b[0;32m     61\u001b[0m     message \u001b[38;5;241m=\u001b[39m (\u001b[38;5;124mf\u001b[39m\u001b[38;5;124m\"\u001b[39m\u001b[38;5;124m`axis` is out of bounds \u001b[39m\u001b[38;5;124m\"\u001b[39m\n\u001b[0;32m     62\u001b[0m                \u001b[38;5;124mf\u001b[39m\u001b[38;5;124m\"\u001b[39m\u001b[38;5;124mfor array of dimension \u001b[39m\u001b[38;5;132;01m{\u001b[39;00mn_dims\u001b[38;5;132;01m}\u001b[39;00m\u001b[38;5;124m\"\u001b[39m)\n\u001b[0;32m     63\u001b[0m     \u001b[38;5;28;01mraise\u001b[39;00m np\u001b[38;5;241m.\u001b[39mAxisError(message)\n\u001b[1;32m---> 65\u001b[0m \u001b[38;5;28;01mif\u001b[39;00m \u001b[38;5;28mlen\u001b[39m(\u001b[43mnp\u001b[49m\u001b[38;5;241;43m.\u001b[39;49m\u001b[43munique\u001b[49m\u001b[43m(\u001b[49m\u001b[43maxis\u001b[49m\u001b[43m)\u001b[49m) \u001b[38;5;241m!=\u001b[39m \u001b[38;5;28mlen\u001b[39m(axis):\n\u001b[0;32m     66\u001b[0m     \u001b[38;5;28;01mraise\u001b[39;00m np\u001b[38;5;241m.\u001b[39mAxisError(\u001b[38;5;124m\"\u001b[39m\u001b[38;5;124m`axis` must contain only distinct elements\u001b[39m\u001b[38;5;124m\"\u001b[39m)\n\u001b[0;32m     68\u001b[0m removed_shapes \u001b[38;5;241m=\u001b[39m new_shapes[:, axis]\n",
      "File \u001b[1;32m<__array_function__ internals>:180\u001b[0m, in \u001b[0;36munique\u001b[1;34m(*args, **kwargs)\u001b[0m\n",
      "File \u001b[1;32m~\\AppData\\Local\\Packages\\PythonSoftwareFoundation.Python.3.10_qbz5n2kfra8p0\\LocalCache\\local-packages\\Python310\\site-packages\\numpy\\lib\\arraysetops.py:274\u001b[0m, in \u001b[0;36munique\u001b[1;34m(ar, return_index, return_inverse, return_counts, axis, equal_nan)\u001b[0m\n\u001b[0;32m    272\u001b[0m ar \u001b[38;5;241m=\u001b[39m np\u001b[38;5;241m.\u001b[39masanyarray(ar)\n\u001b[0;32m    273\u001b[0m \u001b[38;5;28;01mif\u001b[39;00m axis \u001b[38;5;129;01mis\u001b[39;00m \u001b[38;5;28;01mNone\u001b[39;00m:\n\u001b[1;32m--> 274\u001b[0m     ret \u001b[38;5;241m=\u001b[39m \u001b[43m_unique1d\u001b[49m\u001b[43m(\u001b[49m\u001b[43mar\u001b[49m\u001b[43m,\u001b[49m\u001b[43m \u001b[49m\u001b[43mreturn_index\u001b[49m\u001b[43m,\u001b[49m\u001b[43m \u001b[49m\u001b[43mreturn_inverse\u001b[49m\u001b[43m,\u001b[49m\u001b[43m \u001b[49m\u001b[43mreturn_counts\u001b[49m\u001b[43m,\u001b[49m\u001b[43m \u001b[49m\n\u001b[0;32m    275\u001b[0m \u001b[43m                    \u001b[49m\u001b[43mequal_nan\u001b[49m\u001b[38;5;241;43m=\u001b[39;49m\u001b[43mequal_nan\u001b[49m\u001b[43m)\u001b[49m\n\u001b[0;32m    276\u001b[0m     \u001b[38;5;28;01mreturn\u001b[39;00m _unpack_tuple(ret)\n\u001b[0;32m    278\u001b[0m \u001b[38;5;66;03m# axis was specified and not None\u001b[39;00m\n",
      "File \u001b[1;32m~\\AppData\\Local\\Packages\\PythonSoftwareFoundation.Python.3.10_qbz5n2kfra8p0\\LocalCache\\local-packages\\Python310\\site-packages\\numpy\\lib\\arraysetops.py:328\u001b[0m, in \u001b[0;36m_unique1d\u001b[1;34m(ar, return_index, return_inverse, return_counts, equal_nan)\u001b[0m\n\u001b[0;32m    323\u001b[0m \u001b[38;5;28;01mdef\u001b[39;00m \u001b[38;5;21m_unique1d\u001b[39m(ar, return_index\u001b[38;5;241m=\u001b[39m\u001b[38;5;28;01mFalse\u001b[39;00m, return_inverse\u001b[38;5;241m=\u001b[39m\u001b[38;5;28;01mFalse\u001b[39;00m,\n\u001b[0;32m    324\u001b[0m               return_counts\u001b[38;5;241m=\u001b[39m\u001b[38;5;28;01mFalse\u001b[39;00m, \u001b[38;5;241m*\u001b[39m, equal_nan\u001b[38;5;241m=\u001b[39m\u001b[38;5;28;01mTrue\u001b[39;00m):\n\u001b[0;32m    325\u001b[0m \u001b[38;5;250m    \u001b[39m\u001b[38;5;124;03m\"\"\"\u001b[39;00m\n\u001b[0;32m    326\u001b[0m \u001b[38;5;124;03m    Find the unique elements of an array, ignoring shape.\u001b[39;00m\n\u001b[0;32m    327\u001b[0m \u001b[38;5;124;03m    \"\"\"\u001b[39;00m\n\u001b[1;32m--> 328\u001b[0m     ar \u001b[38;5;241m=\u001b[39m \u001b[43mnp\u001b[49m\u001b[38;5;241;43m.\u001b[39;49m\u001b[43masanyarray\u001b[49m\u001b[43m(\u001b[49m\u001b[43mar\u001b[49m\u001b[43m)\u001b[49m\u001b[38;5;241;43m.\u001b[39;49m\u001b[43mflatten\u001b[49m\u001b[43m(\u001b[49m\u001b[43m)\u001b[49m\n\u001b[0;32m    330\u001b[0m     optional_indices \u001b[38;5;241m=\u001b[39m return_index \u001b[38;5;129;01mor\u001b[39;00m return_inverse\n\u001b[0;32m    332\u001b[0m     \u001b[38;5;28;01mif\u001b[39;00m optional_indices:\n",
      "\u001b[1;31mKeyboardInterrupt\u001b[0m: "
     ]
    }
   ],
   "source": [
    "test_n_features('db30', 4, 5)"
   ]
  },
  {
   "cell_type": "code",
   "execution_count": 29,
   "id": "f4e1d300",
   "metadata": {
    "scrolled": true
   },
   "outputs": [
    {
     "name": "stderr",
     "output_type": "stream",
     "text": [
      "100%|██████████████████████████████████████████████████████████████████████████████████| 15/15 [00:06<00:00,  2.32it/s]\n",
      "100%|██████████████████████████████████████████████████████████████████████████████████| 15/15 [00:05<00:00,  2.97it/s]\n",
      "100%|██████████████████████████████████████████████████████████████████████████████████| 15/15 [00:05<00:00,  2.96it/s]\n",
      "100%|██████████████████████████████████████████████████████████████████████████████████| 15/15 [00:06<00:00,  2.25it/s]\n",
      "100%|██████████████████████████████████████████████████████████████████████████████████| 15/15 [00:05<00:00,  2.62it/s]\n",
      "100%|██████████████████████████████████████████████████████████████████████████████████| 15/15 [00:07<00:00,  1.89it/s]\n",
      "100%|██████████████████████████████████████████████████████████████████████████████████| 15/15 [00:05<00:00,  2.96it/s]\n",
      "100%|██████████████████████████████████████████████████████████████████████████████████| 15/15 [00:04<00:00,  3.22it/s]\n",
      "100%|██████████████████████████████████████████████████████████████████████████████████| 15/15 [00:03<00:00,  3.79it/s]\n",
      "100%|██████████████████████████████████████████████████████████████████████████████████| 15/15 [00:03<00:00,  3.77it/s]\n"
     ]
    },
    {
     "name": "stdout",
     "output_type": "stream",
     "text": [
      "a: 0.8823529411764707 std 0.09112901991076273\n"
     ]
    }
   ],
   "source": [
    "selected_features, single_score = test_fnirs_eeg('db30', 4, 5, 15)\n",
    "selected_features = np.concatenate(selected_features)\n",
    "np.save('single_eeg_nirs_features', selected_features)"
   ]
  },
  {
   "cell_type": "markdown",
   "id": "5badae4d",
   "metadata": {},
   "source": [
    " \n",
    " "
   ]
  },
  {
   "cell_type": "markdown",
   "id": "d9be7f4d",
   "metadata": {},
   "source": [
    "Rhythmn"
   ]
  },
  {
   "cell_type": "code",
   "execution_count": 25,
   "id": "be87c307",
   "metadata": {},
   "outputs": [],
   "source": [
    "conditions = ['r_pinch','r_stop']\n",
    "hbo_sub = hbo[conditions].copy().apply_baseline((-5,0))\n",
    "hbr_sub = hbr[conditions].copy().apply_baseline((-5,0))\n",
    "\n",
    "subset = epochs[conditions].copy()\n",
    "subset.drop_channels(subset.info['bads'])\n",
    "subset = subset.pick(['eeg'])\n",
    "eeg_data = subset.copy().crop(4.1,7.8).get_data()\n",
    "\n",
    "hbo_sub.drop_channels(hbo_sub.info['bads'])\n",
    "hbr_sub.drop_channels(hbr_sub.info['bads'])\n",
    "y = le.fit_transform(hbr_sub.events[:,2])\n",
    "chance = np.mean(y == y[0])\n",
    "chance = max(chance, 1. - chance)\n",
    "\n",
    "t_min = 6\n",
    "t_max = 20\n",
    "\n",
    "hbo_sub = hbo_sub.copy().crop(t_min,t_max).get_data()\n",
    "hbr_sub = hbr_sub.copy().crop(t_min,t_max).get_data()\n",
    "hbo_avg = np.mean(hbo_sub, axis=0, keepdims=True)\n",
    "hbr_avg = np.mean(hbr_sub, axis=0, keepdims=True)\n",
    "\n",
    "hbo_sub = hbo_sub - hbo_avg\n",
    "hbr_sub = hbr_sub - hbr_avg\n",
    "\n",
    "nirs_data = np.concatenate([hbo_sub,  hbr_sub], axis=1)\n",
    "\n",
    "y = le.fit_transform(subset.events[:,2])\n"
   ]
  },
  {
   "cell_type": "code",
   "execution_count": 15,
   "id": "005fdb1c",
   "metadata": {},
   "outputs": [
    {
     "name": "stderr",
     "output_type": "stream",
     "text": [
      "100%|██████████████████████████████████████████████████████████████████████████████████| 14/14 [00:04<00:00,  2.98it/s]\n",
      "100%|██████████████████████████████████████████████████████████████████████████████████| 14/14 [00:05<00:00,  2.75it/s]\n",
      "100%|██████████████████████████████████████████████████████████████████████████████████| 14/14 [00:05<00:00,  2.47it/s]\n",
      "100%|██████████████████████████████████████████████████████████████████████████████████| 14/14 [00:06<00:00,  2.28it/s]\n",
      "100%|██████████████████████████████████████████████████████████████████████████████████| 14/14 [00:04<00:00,  3.41it/s]\n",
      "100%|██████████████████████████████████████████████████████████████████████████████████| 14/14 [00:05<00:00,  2.76it/s]\n",
      "100%|██████████████████████████████████████████████████████████████████████████████████| 14/14 [00:05<00:00,  2.50it/s]\n",
      "100%|██████████████████████████████████████████████████████████████████████████████████| 14/14 [00:05<00:00,  2.60it/s]\n",
      "100%|██████████████████████████████████████████████████████████████████████████████████| 14/14 [00:04<00:00,  2.94it/s]\n",
      "100%|██████████████████████████████████████████████████████████████████████████████████| 14/14 [00:04<00:00,  2.91it/s]\n"
     ]
    },
    {
     "name": "stdout",
     "output_type": "stream",
     "text": [
      "a: 0.93125 std 0.06525191568069093\n"
     ]
    }
   ],
   "source": [
    "selected_features, rhythmn_score = test_fnirs_eeg('db30', 4, 5, 14)\n",
    "selected_features = np.concatenate(selected_features)\n",
    "np.save('rhythmn_eeg_nirs_features', selected_features)\n"
   ]
  },
  {
   "cell_type": "code",
   "execution_count": 30,
   "id": "6bfea578",
   "metadata": {},
   "outputs": [],
   "source": [
    "np.save('eeg_nirs_scores', np.array([single_score, rhythmn_score]))"
   ]
  },
  {
   "cell_type": "code",
   "execution_count": null,
   "id": "1290c592",
   "metadata": {},
   "outputs": [],
   "source": [
    "def test_n_features(db, lvl, lvl1, fourth=False):\n",
    "    best_score = 0\n",
    "    for n_features in np.arange(15,24):\n",
    "        fts, current = test_fnirs_eeg(db,lvl, lvl1, fourth, n_features)\n",
    "        if current > best_score:\n",
    "            best_score = current\n",
    "            print(best_score, 'at ', n_features, 'ft')\n",
    "            \n",
    "def get_feature_names(lvl, lvl1, fourth=False):\n",
    "    all_features = []\n",
    "    signal_features = ['std', 'max', 'min', 'rms', 'slope', 'skew', 'avg', 'mean_abs','temp_centr','enrgy','krts','st_centr']\n",
    "    nirs_features = ['std', 'mean', 'min', 'max', 'slope', 'skew', 'krts','tmp_centr']\n",
    "    \n",
    "    rg = 4 if fourth else 3\n",
    "    for level in range(rg):\n",
    "        for ft in signal_features:\n",
    "            for ch in subset.info['chs']:\n",
    "                if level == 0:\n",
    "                    all_features.append('D'+str(lvl) + '_' + ch['ch_name'] + '_' + ft)\n",
    "                elif level == 1:\n",
    "                    all_features.append('D'+str(lvl1) + '_' + ch['ch_name'] + '_' + ft)\n",
    "                elif level == 3:\n",
    "                    all_features.append('D'+str(fourth) + '_' + ch['ch_name'] + '_' + ft)\n",
    "                else :\n",
    "                    all_features.append('A0'+ '_' + ch['ch_name'] + '_' + ft)\n",
    "        \n",
    "        \n",
    "    for ch in hbo.info['chs']:\n",
    "        for ft in nirs_features:\n",
    "            all_features.append(ch['ch_name'] + ft)\n",
    "\n",
    "    for ch in hbr.info['chs']:\n",
    "        for ft in nirs_features:\n",
    "            all_features.append(ch['ch_name'] + ft)\n",
    "\n",
    "    return all_features\n",
    "\n",
    "def test_fnirs_eeg(db, lvl, lvl1,fourth=False, features=10):\n",
    "    selected_features = []\n",
    "    score = []\n",
    "    ft_names = get_feature_names(lvl, lvl1, fourth) \n",
    "\n",
    "    for train_rep in range(6):\n",
    "        cv = StratifiedKFold(n_splits=3,shuffle=True, random_state=randint(15,50))        \n",
    "        cv_split = cv.split(eeg_data, y)\n",
    "        \n",
    "        mrmr_features = None\n",
    "        \n",
    "        median_score = []\n",
    "        for train_idx, test_idx in cv_split:\n",
    "            y_train, y_test = y[train_idx], y[test_idx]\n",
    "            x_aprox_coeff = eeg_data[train_idx]\n",
    "            test_aprox_coeff = eeg_data[test_idx]\n",
    "            nirs_train = nirs_data[train_idx]\n",
    "            nirs_test = nirs_data[test_idx]\n",
    "            \n",
    "            detail_coeffs = []\n",
    "            aprox_coeffs = []\n",
    "            test_detail_coeffs = []\n",
    "            test_aprox_coeffs = []\n",
    "            \n",
    "            for dwt_lvl in range(lvl1+1):\n",
    "                x_det_coeff = np.apply_along_axis(dwt_det_coeff, 2, x_aprox_coeff, db=db)\n",
    "                x_aprox_coeff = np.apply_along_axis(dwt_aprox_coeff, 2, x_aprox_coeff, db=db)\n",
    "                test_det_coeff = np.apply_along_axis(dwt_det_coeff, 2, test_aprox_coeff, db=db)\n",
    "                test_aprox_coeff = np.apply_along_axis(dwt_aprox_coeff, 2, test_aprox_coeff, db=db)\n",
    "\n",
    "                detail_coeffs.append(scaler.fit_transform(x_det_coeff.copy(),y_train))\n",
    "                test_detail_coeffs.append(scaler.transform(test_det_coeff.copy()))\n",
    "                aprox_coeffs.append(scaler.fit_transform(x_aprox_coeff.copy(),y_train))\n",
    "                test_aprox_coeffs.append(scaler.transform(test_aprox_coeff.copy()))\n",
    "                \n",
    "            x_train = [] \n",
    "            \n",
    "            x_train.append(np.apply_along_axis(np.std, 2, detail_coeffs[lvl]))\n",
    "            x_train.append(np.apply_along_axis(np.max, 2, detail_coeffs[lvl]))\n",
    "            x_train.append(np.apply_along_axis(np.min, 2, detail_coeffs[lvl]))\n",
    "            x_train.append(np.apply_along_axis(rms, 2, detail_coeffs[lvl]))\n",
    "            x_train.append(np.apply_along_axis(slope, 2, detail_coeffs[lvl]))\n",
    "            x_train.append(np.apply_along_axis(skew, 2, detail_coeffs[lvl]))\n",
    "            x_train.append(np.apply_along_axis(np.average, 2, detail_coeffs[lvl]**2))\n",
    "            x_train.append(np.apply_along_axis(mean_abs_diff, 2, detail_coeffs[lvl]))\n",
    "            x_train.append(np.apply_along_axis(temp_centroid, 2, detail_coeffs[lvl]))\n",
    "            x_train.append(np.apply_along_axis(energy, 2, detail_coeffs[lvl]))\n",
    "            x_train.append(np.apply_along_axis(kurtosis, 2, detail_coeffs[lvl]))\n",
    "            x_train.append(np.apply_along_axis(calc_centroid, 2, detail_coeffs[lvl]))\n",
    "\n",
    "            x_train.append(np.apply_along_axis(np.std, 2, detail_coeffs[lvl1]))\n",
    "            x_train.append(np.apply_along_axis(np.max, 2, detail_coeffs[lvl1]))\n",
    "            x_train.append(np.apply_along_axis(np.min, 2, detail_coeffs[lvl1]))\n",
    "            x_train.append(np.apply_along_axis(rms, 2, detail_coeffs[lvl1]))\n",
    "            x_train.append(np.apply_along_axis(slope, 2, detail_coeffs[lvl1]))\n",
    "            x_train.append(np.apply_along_axis(skew, 2, detail_coeffs[lvl1]))\n",
    "            x_train.append(np.apply_along_axis(np.average, 2, detail_coeffs[lvl1]**2))\n",
    "            x_train.append(np.apply_along_axis(mean_abs_diff, 2, detail_coeffs[lvl1]))\n",
    "            x_train.append(np.apply_along_axis(temp_centroid, 2, detail_coeffs[lvl1]))\n",
    "            x_train.append(np.apply_along_axis(energy, 2, detail_coeffs[lvl1]))\n",
    "            x_train.append(np.apply_along_axis(kurtosis, 2, detail_coeffs[lvl1]))\n",
    "            x_train.append(np.apply_along_axis(calc_centroid, 2, detail_coeffs[lvl1]))\n",
    "            \n",
    "            x_train.append(np.apply_along_axis(np.std, 2, aprox_coeffs[-1]))\n",
    "            x_train.append(np.apply_along_axis(np.max, 2, aprox_coeffs[-1]))\n",
    "            x_train.append(np.apply_along_axis(np.min, 2, aprox_coeffs[-1]))\n",
    "            x_train.append(np.apply_along_axis(rms, 2, aprox_coeffs[-1]))\n",
    "            x_train.append(np.apply_along_axis(slope, 2, aprox_coeffs[-1]))\n",
    "            x_train.append(np.apply_along_axis(skew, 2, aprox_coeffs[-1]))\n",
    "            x_train.append(np.apply_along_axis(np.average, 2, aprox_coeffs[-1]**2))\n",
    "            x_train.append(np.apply_along_axis(mean_abs_diff, 2, aprox_coeffs[-1]))\n",
    "            x_train.append(np.apply_along_axis(temp_centroid, 2, aprox_coeffs[-1]))\n",
    "            x_train.append(np.apply_along_axis(energy, 2, aprox_coeffs[-1]))\n",
    "            x_train.append(np.apply_along_axis(kurtosis, 2, aprox_coeffs[-1]))\n",
    "            x_train.append(np.apply_along_axis(calc_centroid, 2, aprox_coeffs[-1]))\n",
    "\n",
    "            if fourth :\n",
    "                x_train.append(np.apply_along_axis(np.std, 2, detail_coeffs[fourth]))\n",
    "                x_train.append(np.apply_along_axis(np.max, 2, detail_coeffs[fourth]))\n",
    "                x_train.append(np.apply_along_axis(np.min, 2, detail_coeffs[fourth]))\n",
    "                x_train.append(np.apply_along_axis(rms, 2, detail_coeffs[fourth]))\n",
    "                x_train.append(np.apply_along_axis(slope, 2, detail_coeffs[fourth]))\n",
    "                x_train.append(np.apply_along_axis(skew, 2, detail_coeffs[fourth]))\n",
    "                x_train.append(np.apply_along_axis(np.average, 2, detail_coeffs[fourth]**2))\n",
    "                x_train.append(np.apply_along_axis(mean_abs_diff, 2, detail_coeffs[fourth]))\n",
    "                x_train.append(np.apply_along_axis(temp_centroid, 2, detail_coeffs[fourth]))\n",
    "                x_train.append(np.apply_along_axis(energy, 2, detail_coeffs[fourth]))\n",
    "                x_train.append(np.apply_along_axis(kurtosis, 2, detail_coeffs[fourth]))\n",
    "                x_train.append(np.apply_along_axis(calc_centroid, 2, detail_coeffs[fourth]))\n",
    "\n",
    "            x_train.append(np.apply_along_axis(np.std, 2, nirs_data[train_idx]))\n",
    "            x_train.append(np.apply_along_axis(np.mean, 2, nirs_data[train_idx]))\n",
    "            x_train.append(np.apply_along_axis(np.min, 2, nirs_data[train_idx]))\n",
    "            x_train.append(np.apply_along_axis(np.max, 2, nirs_data[train_idx]))\n",
    "            x_train.append(np.apply_along_axis(slope, 2, nirs_data[train_idx]))\n",
    "            x_train.append(np.apply_along_axis(skew, 2, nirs_data[train_idx]))\n",
    "            x_train.append(np.apply_along_axis(kurtosis, 2, nirs_data[train_idx]))\n",
    "            x_train.append(np.apply_along_axis(calc_centroid, 2, nirs_data[train_idx]))\n",
    "            \n",
    "            x_train = np.concatenate(x_train, axis=1)\n",
    "            \n",
    "            x_test = []\n",
    "            \n",
    "            x_test.append(np.apply_along_axis(np.std, 2, test_detail_coeffs[lvl]))\n",
    "            x_test.append(np.apply_along_axis(np.max, 2, test_detail_coeffs[lvl]))\n",
    "            x_test.append(np.apply_along_axis(np.min, 2, test_detail_coeffs[lvl]))\n",
    "            x_test.append(np.apply_along_axis(rms, 2, test_detail_coeffs[lvl]))\n",
    "            x_test.append(np.apply_along_axis(slope, 2, test_detail_coeffs[lvl]))\n",
    "            x_test.append(np.apply_along_axis(skew, 2, test_detail_coeffs[lvl]))\n",
    "            x_test.append(np.apply_along_axis(np.average, 2, test_detail_coeffs[lvl]**2))\n",
    "            x_test.append(np.apply_along_axis(mean_abs_diff, 2, test_detail_coeffs[lvl]))\n",
    "            x_test.append(np.apply_along_axis(temp_centroid, 2, test_detail_coeffs[lvl]))\n",
    "            x_test.append(np.apply_along_axis(energy, 2, test_detail_coeffs[lvl]))\n",
    "            x_test.append(np.apply_along_axis(kurtosis, 2, test_detail_coeffs[lvl]))\n",
    "            x_test.append(np.apply_along_axis(calc_centroid, 2, test_detail_coeffs[lvl]))\n",
    "\n",
    "            x_test.append(np.apply_along_axis(np.std, 2, test_detail_coeffs[lvl1]))\n",
    "            x_test.append(np.apply_along_axis(np.max, 2, test_detail_coeffs[lvl1]))\n",
    "            x_test.append(np.apply_along_axis(np.min, 2, test_detail_coeffs[lvl1]))\n",
    "            x_test.append(np.apply_along_axis(rms, 2, test_detail_coeffs[lvl1]))\n",
    "            x_test.append(np.apply_along_axis(slope, 2, test_detail_coeffs[lvl1]))\n",
    "            x_test.append(np.apply_along_axis(skew, 2, test_detail_coeffs[lvl1]))\n",
    "            x_test.append(np.apply_along_axis(np.average, 2, test_detail_coeffs[lvl1]**2))\n",
    "            x_test.append(np.apply_along_axis(mean_abs_diff, 2, test_detail_coeffs[lvl1]))\n",
    "            x_test.append(np.apply_along_axis(temp_centroid, 2, test_detail_coeffs[lvl1]))\n",
    "            x_test.append(np.apply_along_axis(energy, 2, test_detail_coeffs[lvl1]))\n",
    "            x_test.append(np.apply_along_axis(kurtosis, 2, test_detail_coeffs[lvl1]))\n",
    "            x_test.append(np.apply_along_axis(calc_centroid, 2, test_detail_coeffs[lvl1]))\n",
    "\n",
    "            x_test.append(np.apply_along_axis(np.std, 2, test_aprox_coeffs[-1]))\n",
    "            x_test.append(np.apply_along_axis(np.max, 2, test_aprox_coeffs[-1]))\n",
    "            x_test.append(np.apply_along_axis(np.min, 2, test_aprox_coeffs[-1]))\n",
    "            x_test.append(np.apply_along_axis(rms, 2, test_aprox_coeffs[-1]))\n",
    "            x_test.append(np.apply_along_axis(slope, 2, test_aprox_coeffs[-1]))\n",
    "            x_test.append(np.apply_along_axis(skew, 2, test_aprox_coeffs[-1]))\n",
    "            x_test.append(np.apply_along_axis(np.average, 2, test_aprox_coeffs[-1]**2))\n",
    "            x_test.append(np.apply_along_axis(mean_abs_diff, 2, test_aprox_coeffs[-1]))\n",
    "            x_test.append(np.apply_along_axis(temp_centroid, 2, test_aprox_coeffs[-1]))\n",
    "            x_test.append(np.apply_along_axis(energy, 2, test_aprox_coeffs[-1]))\n",
    "            x_test.append(np.apply_along_axis(kurtosis, 2, test_aprox_coeffs[-1]))\n",
    "            x_test.append(np.apply_along_axis(calc_centroid, 2, test_aprox_coeffs[-1]))\n",
    "            \n",
    "            if fourth :\n",
    "                x_test.append(np.apply_along_axis(np.std, 2, test_detail_coeffs[fourth]))\n",
    "                x_test.append(np.apply_along_axis(np.max, 2, test_detail_coeffs[fourth]))\n",
    "                x_test.append(np.apply_along_axis(np.min, 2, test_detail_coeffs[fourth]))\n",
    "                x_test.append(np.apply_along_axis(rms, 2, test_detail_coeffs[fourth]))\n",
    "                x_test.append(np.apply_along_axis(slope, 2, test_detail_coeffs[fourth]))\n",
    "                x_test.append(np.apply_along_axis(skew, 2, test_detail_coeffs[fourth]))\n",
    "                x_test.append(np.apply_along_axis(np.average, 2, test_detail_coeffs[fourth]**2))\n",
    "                x_test.append(np.apply_along_axis(mean_abs_diff, 2, test_detail_coeffs[fourth]))\n",
    "                x_test.append(np.apply_along_axis(temp_centroid, 2, test_detail_coeffs[fourth]))\n",
    "                x_test.append(np.apply_along_axis(energy, 2, test_detail_coeffs[fourth]))\n",
    "                x_test.append(np.apply_along_axis(kurtosis, 2, test_detail_coeffs[fourth]))\n",
    "                x_test.append(np.apply_along_axis(calc_centroid, 2, test_detail_coeffs[fourth]))\n",
    "\n",
    "            x_test.append(np.apply_along_axis(np.std, 2, nirs_data[test_idx]))\n",
    "            x_test.append(np.apply_along_axis(np.mean, 2, nirs_data[test_idx]))\n",
    "            x_test.append(np.apply_along_axis(np.min, 2, nirs_data[test_idx]))\n",
    "            x_test.append(np.apply_along_axis(np.max, 2, nirs_data[test_idx]))\n",
    "            x_test.append(np.apply_along_axis(slope, 2, nirs_data[test_idx]))\n",
    "            x_test.append(np.apply_along_axis(skew, 2, nirs_data[test_idx]))\n",
    "            x_test.append(np.apply_along_axis(kurtosis, 2, nirs_data[test_idx]))\n",
    "            x_test.append(np.apply_along_axis(calc_centroid, 2, nirs_data[test_idx]))\n",
    "\n",
    "            x_test = np.concatenate(x_test, axis=1)\n",
    "            \n",
    "            if mrmr_features is None:            \n",
    "                x_pd = pd.DataFrame(x_train)\n",
    "                mrmr_features = mrmr_classif(X=x_pd, y=y_train, K=features)\n",
    "           \n",
    "            lda.fit(x_train[:,mrmr_features], y_train)\n",
    "            median_score.append(np.median(lda.score(x_test[:,mrmr_features], y_test)))\n",
    "\n",
    "        selected_features.append(np.array(ft_names)[mrmr_features])\n",
    "        score.append(np.median(median_score))\n",
    "    \n",
    "    print('sc:' , np.mean(score) , 'std', np.std(score))\n",
    "    return selected_features, np.mean(score)"
   ]
  },
  {
   "cell_type": "code",
   "execution_count": null,
   "id": "0bf37cb1",
   "metadata": {},
   "outputs": [],
   "source": []
  }
 ],
 "metadata": {
  "kernelspec": {
   "display_name": "Python 3 (ipykernel)",
   "language": "python",
   "name": "python3"
  },
  "language_info": {
   "codemirror_mode": {
    "name": "ipython",
    "version": 3
   },
   "file_extension": ".py",
   "mimetype": "text/x-python",
   "name": "python",
   "nbconvert_exporter": "python",
   "pygments_lexer": "ipython3",
   "version": "3.10.11"
  }
 },
 "nbformat": 4,
 "nbformat_minor": 5
}
